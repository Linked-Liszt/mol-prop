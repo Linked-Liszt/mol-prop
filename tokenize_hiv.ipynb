{
 "cells": [
  {
   "cell_type": "code",
   "execution_count": 7,
   "metadata": {},
   "outputs": [],
   "source": [
    "from tokenizers import SentencePieceBPETokenizer\n",
    "import utils\n",
    "from tokenizers import Tokenizer\n",
    "from tokenizers.models import BPE\n",
    "from tokenizers.pre_tokenizers import PreTokenizer\n",
    "from transformers import XLNetTokenizer\n",
    "from tokenizers.pre_tokenizers import Split, Whitespace\n",
    "import pickle\n",
    "from tokenizers.trainers import BpeTrainer\n",
    "import utils"
   ]
  },
  {
   "cell_type": "code",
   "execution_count": 8,
   "metadata": {},
   "outputs": [],
   "source": [
    "with open('data/ogb_molhiv/mol.csv', 'r') as hiv_f, open('data/ogb_molhiv/hiv_raw.txt', 'w') as hiv_raw:\n",
    "    next(hiv_f)\n",
    "    for line in hiv_f:\n",
    "        hiv_raw.write(line.split(',')[1] + '\\n')"
   ]
  },
  {
   "cell_type": "code",
   "execution_count": 9,
   "metadata": {},
   "outputs": [
    {
     "name": "stdout",
     "output_type": "stream",
     "text": [
      "[('C', (0, 1)), ('S', (1, 2)), ('(', (2, 3)), ('=', (3, 4)), ('O', (4, 5)), (')', (5, 6)), ('(', (6, 7)), ('=', (7, 8)), ('O', (8, 9)), (')', (9, 10)), ('O', (10, 11)), ('C', (11, 12)), ('C', (12, 13)), ('C', (13, 14)), ('C', (14, 15)), ('O', (15, 16)), ('S', (16, 17)), ('(', (17, 18)), ('C', (18, 19)), (')', (19, 20)), ('(', (20, 21)), ('=', (21, 22)), ('O', (22, 23)), (')', (23, 24)), ('=', (24, 25)), ('O', (25, 26))]\n"
     ]
    }
   ],
   "source": [
    "tok = Tokenizer(BPE())\n",
    "pre_tokenizer = PreTokenizer.custom(utils.SmilesPreTokenizer())\n",
    "#pre_tokenizer = Split(pattern=utils.SMI_REGEX_PATTERN, behavior='merged_with_previous', invert=True)\n",
    "print(pre_tokenizer.pre_tokenize_str('CS(=O)(=O)OCCCCOS(C)(=O)=O'))"
   ]
  },
  {
   "cell_type": "code",
   "execution_count": 10,
   "metadata": {},
   "outputs": [],
   "source": [
    "special_tokens = [\"<unk>\", \"<sep>\", \"<pad>\", \"<cls>\", \"<mask\", \"<eop>\", \"<eod>\"]\n",
    "vocab_size = 10000\n",
    "tokenizer = Tokenizer(BPE())\n",
    "tokenizer.pre_tokenizer = PreTokenizer.custom(utils.SmilesPreTokenizer())\n",
    "trainer = BpeTrainer(vocab_size=vocab_size, special_tokens=special_tokens, show_progress=True)\n",
    "files = ['data/ogb_molhiv/hiv_raw.txt']"
   ]
  },
  {
   "cell_type": "code",
   "execution_count": 11,
   "metadata": {},
   "outputs": [
    {
     "name": "stdout",
     "output_type": "stream",
     "text": [
      "\n",
      "\n",
      "\n"
     ]
    }
   ],
   "source": [
    "tokenizer.train(files, trainer)\n",
    "tokenizer.pre_tokenizer = Whitespace()\n",
    "tokenizer.save(f\"models/tk_vs{vocab_size}.json\")"
   ]
  }
 ],
 "metadata": {
  "interpreter": {
   "hash": "d6b4c48b5ce735231575875d44944f6382cbf5d8aa4a5aa5659253d82899c9bc"
  },
  "kernelspec": {
   "display_name": "Python 3.9.7 64-bit ('molnlp': conda)",
   "name": "python3"
  },
  "language_info": {
   "codemirror_mode": {
    "name": "ipython",
    "version": 3
   },
   "file_extension": ".py",
   "mimetype": "text/x-python",
   "name": "python",
   "nbconvert_exporter": "python",
   "pygments_lexer": "ipython3",
   "version": "3.9.7"
  },
  "orig_nbformat": 4
 },
 "nbformat": 4,
 "nbformat_minor": 2
}
