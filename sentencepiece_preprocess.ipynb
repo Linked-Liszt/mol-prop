{
 "cells": [
  {
   "cell_type": "code",
   "execution_count": 7,
   "source": [
    "import os"
   ],
   "outputs": [],
   "metadata": {}
  },
  {
   "cell_type": "code",
   "execution_count": 2,
   "source": [
    "# Assumes data is in data/zinc15/*/*.smi files\n",
    "# As downloaded from the zinc15 scripts"
   ],
   "outputs": [],
   "metadata": {}
  },
  {
   "cell_type": "code",
   "execution_count": null,
   "source": [
    "if not os.path.exists('data/proc_zinc'):\n",
    "    os.mkdir('data/proc_zinc')\n",
    "\n",
    "with open('data/proc_zinc/all.txt', 'w') as out_f:\n",
    "    for class_fp in os.listdir('data/zinc15'):\n",
    "        for smi_fp in os.listdir(os.path.join('data/zinc15', class_fp)):\n",
    "            in_fp = os.path.join('data/zinc15', class_fp, smi_fp)\n",
    "            try:\n",
    "                with open(in_fp, 'r') as in_f:\n",
    "                    next(in_f) # Skip header line\n",
    "                    for line in in_f:\n",
    "                        out_f.write(line.split(' ')[0] + '\\n')\n",
    "            except:\n",
    "                print(f'Error with file: {in_fp}')\n",
    "                \n"
   ],
   "outputs": [],
   "metadata": {}
  },
  {
   "cell_type": "code",
   "execution_count": 2,
   "source": [
    "with open('data/proc_zinc/all.txt', 'r') as in_f:\n",
    "    print([char for char in next(in_f)])"
   ],
   "outputs": [
    {
     "output_type": "stream",
     "name": "stdout",
     "text": [
      "['N', 'N', '1', 'C', 'C', '(', '=', 'O', ')', 'N', '(', 'c', '2', 'c', 'c', 'c', 'c', 'c', '2', ')', 'C', 'C', '1', '=', 'O', '\\n']\n"
     ]
    }
   ],
   "metadata": {}
  }
 ],
 "metadata": {
  "orig_nbformat": 4,
  "language_info": {
   "name": "python",
   "version": "3.9.7",
   "mimetype": "text/x-python",
   "codemirror_mode": {
    "name": "ipython",
    "version": 3
   },
   "pygments_lexer": "ipython3",
   "nbconvert_exporter": "python",
   "file_extension": ".py"
  },
  "kernelspec": {
   "name": "python3",
   "display_name": "Python 3.9.7 64-bit ('molnlp': conda)"
  },
  "interpreter": {
   "hash": "af97f0244bdde301ebd38713553edd07148f611527f31aa5272fb5026912c29d"
  }
 },
 "nbformat": 4,
 "nbformat_minor": 2
}