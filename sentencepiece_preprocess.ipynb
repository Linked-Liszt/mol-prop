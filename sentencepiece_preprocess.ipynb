{
 "cells": [
  {
   "cell_type": "code",
   "execution_count": 1,
   "metadata": {},
   "outputs": [],
   "source": [
    "import os"
   ]
  },
  {
   "cell_type": "code",
   "execution_count": 2,
   "metadata": {},
   "outputs": [],
   "source": [
    "# Assumes data is in data/zinc15/*/*.smi files\n",
    "# As downloaded from the zinc15 scripts"
   ]
  },
  {
   "cell_type": "code",
   "execution_count": 3,
   "metadata": {},
   "outputs": [
    {
     "name": "stdout",
     "output_type": "stream",
     "text": [
      "Error with file: ../zinc15/2M\\BB\\BBBC.smi\n",
      "Error with file: ../zinc15/2M\\BB\\BBEC.smi\n",
      "Error with file: ../zinc15/2M\\BB\\BBGC.smi\n"
     ]
    }
   ],
   "source": [
    "in_path = '../zinc15/2M'\n",
    "\n",
    "\n",
    "if not os.path.exists('data/proc_zinc'):\n",
    "    os.mkdir('data/proc_zinc')\n",
    "\n",
    "with open('data/proc_zinc/all.txt', 'w') as out_f:\n",
    "    for class_fp in os.listdir(in_path):\n",
    "        for smi_fp in os.listdir(os.path.join(in_path, class_fp)):\n",
    "            in_fp = os.path.join(in_path, class_fp, smi_fp)\n",
    "            try:\n",
    "                with open(in_fp, 'r') as in_f:\n",
    "                    next(in_f) # Skip header line\n",
    "                    for line in in_f:\n",
    "                        out_f.write(line.split(' ')[0] + '\\n')\n",
    "            except:\n",
    "                print(f'Error with file: {in_fp}')\n",
    "                \n"
   ]
  },
  {
   "cell_type": "code",
   "execution_count": 5,
   "metadata": {},
   "outputs": [
    {
     "name": "stdout",
     "output_type": "stream",
     "text": [
      "['N', 'N', '1', 'C', 'C', '(', '=', 'O', ')', 'N', '(', 'c', '2', 'c', 'c', 'c', 'c', 'c', '2', ')', 'C', 'C', '1', '=', 'O', '\\n']\n"
     ]
    }
   ],
   "source": [
    "with open('data/proc_zinc/all.txt', 'r') as in_f:\n",
    "    print([char for char in next(in_f)])"
   ]
  }
 ],
 "metadata": {
  "interpreter": {
   "hash": "908b0ba9a178eea73af43abb00217a0aee98ad2ae4b0fcf81e35eb59597dfae8"
  },
  "kernelspec": {
   "display_name": "Python 3.9.7 64-bit ('molnlp': conda)",
   "name": "python3"
  },
  "language_info": {
   "codemirror_mode": {
    "name": "ipython",
    "version": 3
   },
   "file_extension": ".py",
   "mimetype": "text/x-python",
   "name": "python",
   "nbconvert_exporter": "python",
   "pygments_lexer": "ipython3",
   "version": "3.9.7"
  },
  "orig_nbformat": 4
 },
 "nbformat": 4,
 "nbformat_minor": 2
}
