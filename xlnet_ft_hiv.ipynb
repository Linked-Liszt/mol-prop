{
 "cells": [
  {
   "cell_type": "code",
   "execution_count": 2,
   "metadata": {},
   "outputs": [],
   "source": [
    "import os\n",
    "os.environ['HF_HOME'] = os.path.join(os.getcwd(), 'hf_cache')\n",
    "from transformers import XLNetConfig, XLNetModel, XLNetTokenizer, XLNetLMHeadModel, XLNetForSequenceClassification\n",
    "from datasets import load_dataset\n",
    "from transformers import Trainer, TrainingArguments\n",
    "import utils\n",
    "from datasets import load_metric\n",
    "from transformers.data.data_collator import DataCollatorWithPadding\n",
    "import numpy as np\n",
    "from tqdm import tqdm"
   ]
  },
  {
   "cell_type": "code",
   "execution_count": 3,
   "metadata": {},
   "outputs": [],
   "source": [
    "tokenizer = XLNetTokenizer(vocab_file='models/smiles_sp.model',\n",
    "                           do_lower_case=False,\n",
    "                           keep_accents=True\n",
    "                           )"
   ]
  },
  {
   "cell_type": "code",
   "execution_count": 4,
   "metadata": {},
   "outputs": [
    {
     "name": "stderr",
     "output_type": "stream",
     "text": [
      "Using custom data configuration default-61b52d1e11be2e70\n",
      "Reusing dataset csv (e:\\molnlp\\mol-prop\\hf_cache\\datasets\\csv\\default-61b52d1e11be2e70\\0.0.0\\bf68a4c4aefa545d0712b2fcbb1b327f905bbe2f6425fbc5e8c25234acb9e14a)\n",
      "100%|██████████| 1/1 [00:00<00:00, 499.62it/s]\n"
     ]
    }
   ],
   "source": [
    "dataset = load_dataset('csv', data_files=['data/hiv/HIV.csv'])"
   ]
  },
  {
   "cell_type": "code",
   "execution_count": 5,
   "metadata": {},
   "outputs": [
    {
     "name": "stderr",
     "output_type": "stream",
     "text": [
      "Loading cached processed dataset at e:\\molnlp\\mol-prop\\hf_cache\\datasets\\csv\\default-61b52d1e11be2e70\\0.0.0\\bf68a4c4aefa545d0712b2fcbb1b327f905bbe2f6425fbc5e8c25234acb9e14a\\cache-afee11334f9dac35.arrow\n"
     ]
    }
   ],
   "source": [
    "max_len = utils.compute_max_length(dataset, 'smiles', tokenizer, 'data/hiv/hiv_len.txt')\n",
    "\n",
    "def tokenize_function_hiv(examples):\n",
    "    out_dict = tokenizer(examples[\"smiles\"])\n",
    "    out_dict['label'] = [int(x) for x in examples['HIV_active']]\n",
    "    return out_dict\n",
    "\n",
    "tokenized_datasets = dataset.map(tokenize_function_hiv, batched=True, remove_columns=[\"smiles\",\"activity\", \"HIV_active\"])"
   ]
  },
  {
   "cell_type": "code",
   "execution_count": 6,
   "metadata": {},
   "outputs": [
    {
     "name": "stderr",
     "output_type": "stream",
     "text": [
      "Loading cached split indices for dataset at e:\\molnlp\\mol-prop\\hf_cache\\datasets\\csv\\default-61b52d1e11be2e70\\0.0.0\\bf68a4c4aefa545d0712b2fcbb1b327f905bbe2f6425fbc5e8c25234acb9e14a\\cache-1d7a3e6967112968.arrow and e:\\molnlp\\mol-prop\\hf_cache\\datasets\\csv\\default-61b52d1e11be2e70\\0.0.0\\bf68a4c4aefa545d0712b2fcbb1b327f905bbe2f6425fbc5e8c25234acb9e14a\\cache-1bed92519eac4f6d.arrow\n"
     ]
    }
   ],
   "source": [
    "# Seems like trainer errors on odd splits. \n",
    "test_num = len(tokenized_datasets['train']) // 10\n",
    "if test_num % 2 == 1:\n",
    "    test_num -= 1\n",
    "ds_split = tokenized_datasets['train'].train_test_split(test_num, shuffle=True, seed=42)\n",
    "#ds_split = tokenized_datasets['train'].shard(300,1).train_test_split(0.1, shuffle=True, seed=42)"
   ]
  },
  {
   "cell_type": "code",
   "execution_count": 7,
   "metadata": {},
   "outputs": [
    {
     "data": {
      "text/plain": [
       "DatasetDict({\n",
       "    train: Dataset({\n",
       "        features: ['attention_mask', 'input_ids', 'label', 'token_type_ids'],\n",
       "        num_rows: 37014\n",
       "    })\n",
       "    test: Dataset({\n",
       "        features: ['attention_mask', 'input_ids', 'label', 'token_type_ids'],\n",
       "        num_rows: 4112\n",
       "    })\n",
       "})"
      ]
     },
     "execution_count": 7,
     "metadata": {},
     "output_type": "execute_result"
    }
   ],
   "source": [
    "ds_split"
   ]
  },
  {
   "cell_type": "code",
   "execution_count": 8,
   "metadata": {},
   "outputs": [
    {
     "name": "stderr",
     "output_type": "stream",
     "text": [
      "Some weights of the model checkpoint at models/xlnet-smiles-s2000000-b70-l4/checkpoint-5714 were not used when initializing XLNetForSequenceClassification: ['lm_loss.weight', 'lm_loss.bias']\n",
      "- This IS expected if you are initializing XLNetForSequenceClassification from the checkpoint of a model trained on another task or with another architecture (e.g. initializing a BertForSequenceClassification model from a BertForPreTraining model).\n",
      "- This IS NOT expected if you are initializing XLNetForSequenceClassification from the checkpoint of a model that you expect to be exactly identical (initializing a BertForSequenceClassification model from a BertForSequenceClassification model).\n",
      "Some weights of XLNetForSequenceClassification were not initialized from the model checkpoint at models/xlnet-smiles-s2000000-b70-l4/checkpoint-5714 and are newly initialized: ['logits_proj.bias', 'sequence_summary.summary.weight', 'sequence_summary.summary.bias', 'logits_proj.weight']\n",
      "You should probably TRAIN this model on a down-stream task to be able to use it for predictions and inference.\n"
     ]
    },
    {
     "data": {
      "text/plain": [
       "'\\nmodel_config = XLNetConfig(\\n    vocab_size=tokenizer.vocab_size,\\n    n_layer=6,\\n    bi_data=True,\\n    num_labels=2\\n)\\nmodel = XLNetForSequenceClassification(model_config)\\n'"
      ]
     },
     "execution_count": 8,
     "metadata": {},
     "output_type": "execute_result"
    }
   ],
   "source": [
    "\n",
    "model_path = \"models/xlnet-smiles-s2000000-b70-l4/checkpoint-5714\"\n",
    "model = XLNetForSequenceClassification.from_pretrained(model_path, config=model_path, num_labels=2)\n",
    "\"\"\"\n",
    "model_config = XLNetConfig(\n",
    "    vocab_size=tokenizer.vocab_size,\n",
    "    n_layer=6,\n",
    "    bi_data=True,\n",
    "    num_labels=2\n",
    ")\n",
    "model = XLNetForSequenceClassification(model_config)\n",
    "\"\"\""
   ]
  },
  {
   "cell_type": "code",
   "execution_count": 9,
   "metadata": {},
   "outputs": [],
   "source": [
    "training_args = TrainingArguments(\n",
    "    f\"models/xlnet-hiv\",\n",
    "    evaluation_strategy = \"epoch\",\n",
    "    learning_rate=2e-5,\n",
    "    weight_decay=0.01,\n",
    "    per_device_train_batch_size=8, # has to be even?\n",
    "    per_device_eval_batch_size=30,\n",
    "    num_train_epochs=10,\n",
    "    save_strategy='epoch',\n",
    ")"
   ]
  },
  {
   "cell_type": "code",
   "execution_count": 10,
   "metadata": {},
   "outputs": [],
   "source": [
    "metric = load_metric(\"accuracy\")\n",
    "\n",
    "def compute_metrics(eval_pred):\n",
    "    logits, labels = eval_pred\n",
    "    predictions = np.argmax(logits, axis=-1)\n",
    "    return metric.compute(predictions=predictions, references=labels)"
   ]
  },
  {
   "cell_type": "code",
   "execution_count": 11,
   "metadata": {},
   "outputs": [],
   "source": [
    "collator = DataCollatorWithPadding(tokenizer)"
   ]
  },
  {
   "cell_type": "code",
   "execution_count": 12,
   "metadata": {},
   "outputs": [],
   "source": [
    "trainer = Trainer(\n",
    "    model=model,\n",
    "    args=training_args,\n",
    "    train_dataset=ds_split['train'],\n",
    "    eval_dataset=ds_split['test'],\n",
    "    compute_metrics=compute_metrics,\n",
    "    data_collator=collator,\n",
    ")"
   ]
  },
  {
   "cell_type": "code",
   "execution_count": 13,
   "metadata": {},
   "outputs": [
    {
     "name": "stderr",
     "output_type": "stream",
     "text": [
      "***** Running Evaluation *****\n",
      "  Num examples = 4112\n",
      "  Batch size = 30\n",
      "100%|██████████| 138/138 [00:28<00:00,  4.89it/s]"
     ]
    },
    {
     "name": "stdout",
     "output_type": "stream",
     "text": [
      "{'eval_loss': 1.0527033805847168, 'eval_accuracy': 0.03526264591439689, 'eval_runtime': 28.8697, 'eval_samples_per_second': 142.433, 'eval_steps_per_second': 4.78}\n"
     ]
    },
    {
     "name": "stderr",
     "output_type": "stream",
     "text": [
      "\n"
     ]
    }
   ],
   "source": [
    "print(trainer.evaluate())"
   ]
  },
  {
   "cell_type": "code",
   "execution_count": 14,
   "metadata": {},
   "outputs": [
    {
     "name": "stderr",
     "output_type": "stream",
     "text": [
      "***** Running training *****\n",
      "  Num examples = 37014\n",
      "  Num Epochs = 10\n",
      "  Instantaneous batch size per device = 8\n",
      "  Total train batch size (w. parallel, distributed & accumulation) = 8\n",
      "  Gradient Accumulation steps = 1\n",
      "  Total optimization steps = 46270\n",
      "  1%|          | 500/46270 [00:51<1:12:43, 10.49it/s]"
     ]
    },
    {
     "name": "stdout",
     "output_type": "stream",
     "text": [
      "{'loss': 0.1744, 'learning_rate': 1.978387724227361e-05, 'epoch': 0.11}\n"
     ]
    },
    {
     "name": "stderr",
     "output_type": "stream",
     "text": [
      "  2%|▏         | 1001/46270 [01:45<1:24:36,  8.92it/s]"
     ]
    },
    {
     "name": "stdout",
     "output_type": "stream",
     "text": [
      "{'loss': 0.1688, 'learning_rate': 1.9567754484547224e-05, 'epoch': 0.22}\n"
     ]
    },
    {
     "name": "stderr",
     "output_type": "stream",
     "text": [
      "  3%|▎         | 1243/46270 [02:09<1:10:25, 10.66it/s]"
     ]
    }
   ],
   "source": [
    "trainer.train()"
   ]
  }
 ],
 "metadata": {
  "interpreter": {
   "hash": "908b0ba9a178eea73af43abb00217a0aee98ad2ae4b0fcf81e35eb59597dfae8"
  },
  "kernelspec": {
   "display_name": "Python 3.9.7 64-bit ('molnlp': conda)",
   "name": "python3"
  },
  "language_info": {
   "codemirror_mode": {
    "name": "ipython",
    "version": 3
   },
   "file_extension": ".py",
   "mimetype": "text/x-python",
   "name": "python",
   "nbconvert_exporter": "python",
   "pygments_lexer": "ipython3",
   "version": "3.9.7"
  },
  "orig_nbformat": 4
 },
 "nbformat": 4,
 "nbformat_minor": 2
}
