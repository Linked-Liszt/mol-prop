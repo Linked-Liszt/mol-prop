{
 "cells": [
  {
   "cell_type": "code",
   "execution_count": 6,
   "metadata": {},
   "outputs": [],
   "source": [
    "from ogb.graphproppred import GraphPropPredDataset\n",
    "import os\n",
    "import gzip\n",
    "import shutil"
   ]
  },
  {
   "cell_type": "code",
   "execution_count": 2,
   "metadata": {},
   "outputs": [],
   "source": [
    "#Download Dataset\n",
    "# Then Unzip the split csv and main csv files. \n",
    "dataset = GraphPropPredDataset(name = 'ogbg-molhiv')"
   ]
  },
  {
   "cell_type": "code",
   "execution_count": 11,
   "metadata": {},
   "outputs": [],
   "source": [
    "if not os.path.exists('data'):\n",
    "    os.mkdir('data')\n",
    "\n",
    "if not os.path.exists('data/ogb_molhiv'):\n",
    "    os.mkdir('data/ogb_molhiv')\n",
    "\n",
    "raw_files = ['train', 'valid', 'test']\n",
    "\n",
    "with gzip.open('dataset/ogbg_molhiv/mapping/mol.csv.gz', 'rb') as f_in:\n",
    "    with open('data/ogb_molhiv/mol.csv', 'wb') as f_out:\n",
    "        shutil.copyfileobj(f_in, f_out)\n",
    "\n",
    "for fp in raw_files:\n",
    "    with gzip.open(f'dataset/ogbg_molhiv/split/scaffold/{fp}.csv.gz', 'rb') as f_in:\n",
    "        with open(f'data/ogb_molhiv/{fp}.csv', 'wb') as f_out:\n",
    "            shutil.copyfileobj(f_in, f_out)\n",
    "\n"
   ]
  },
  {
   "cell_type": "code",
   "execution_count": 13,
   "metadata": {},
   "outputs": [],
   "source": [
    "splits = ['train', 'test', 'valid']\n",
    "\n",
    "with open('data/ogb_molhiv/mol.csv', 'r') as mol_f:\n",
    "    mol_lines = mol_f.readlines()\n",
    "\n",
    "for split in splits:\n",
    "    with open(f'data/ogb_molhiv/{split}.csv', 'r') as split_f, open(f'data/ogb_molhiv/{split}_hiv.csv', 'w') as out_f:\n",
    "        out_f.write(mol_lines[0])\n",
    "        for split_idx in split_f:\n",
    "            out_f.write(mol_lines[int(split_idx) + 1])"
   ]
  }
 ],
 "metadata": {
  "interpreter": {
   "hash": "d6b4c48b5ce735231575875d44944f6382cbf5d8aa4a5aa5659253d82899c9bc"
  },
  "kernelspec": {
   "display_name": "Python 3.9.7 64-bit ('molnlp': conda)",
   "name": "python3"
  },
  "language_info": {
   "codemirror_mode": {
    "name": "ipython",
    "version": 3
   },
   "file_extension": ".py",
   "mimetype": "text/x-python",
   "name": "python",
   "nbconvert_exporter": "python",
   "pygments_lexer": "ipython3",
   "version": "3.9.7"
  },
  "orig_nbformat": 4
 },
 "nbformat": 4,
 "nbformat_minor": 2
}
