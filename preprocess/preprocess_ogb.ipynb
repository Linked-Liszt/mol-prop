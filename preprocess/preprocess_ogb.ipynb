{
 "cells": [
  {
   "cell_type": "code",
   "execution_count": 1,
   "metadata": {},
   "outputs": [],
   "source": [
    "from ogb.graphproppred import GraphPropPredDataset"
   ]
  },
  {
   "cell_type": "code",
   "execution_count": 3,
   "metadata": {},
   "outputs": [],
   "source": [
    "#Download Dataset\n",
    "# Then Unzip the split csv and main csv files. \n",
    "dataset = GraphPropPredDataset(name = 'ogbg-molhiv')"
   ]
  },
  {
   "cell_type": "code",
   "execution_count": 6,
   "metadata": {},
   "outputs": [],
   "source": [
    "splits = ['train', 'test', 'valid']\n",
    "\n",
    "with open('data/ogb_molhiv/hiv.csv', 'r') as mol_f:\n",
    "    mol_lines = mol_f.readlines()\n",
    "\n",
    "for split in splits:\n",
    "    with open(f'data/ogb_molhiv/{split}.csv', 'r') as split_f, open(f'data/ogb_molhiv/{split}_hiv.csv', 'w') as out_f:\n",
    "        out_f.write(mol_lines[0])\n",
    "        for split_idx in split_f:\n",
    "            out_f.write(mol_lines[int(split_idx) + 1])"
   ]
  }
 ],
 "metadata": {
  "interpreter": {
   "hash": "908b0ba9a178eea73af43abb00217a0aee98ad2ae4b0fcf81e35eb59597dfae8"
  },
  "kernelspec": {
   "display_name": "Python 3.9.7 64-bit ('molnlp': conda)",
   "name": "python3"
  },
  "language_info": {
   "codemirror_mode": {
    "name": "ipython",
    "version": 3
   },
   "file_extension": ".py",
   "mimetype": "text/x-python",
   "name": "python",
   "nbconvert_exporter": "python",
   "pygments_lexer": "ipython3",
   "version": "3.9.7"
  },
  "orig_nbformat": 4
 },
 "nbformat": 4,
 "nbformat_minor": 2
}
