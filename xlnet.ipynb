{
 "cells": [
  {
   "cell_type": "code",
   "execution_count": 1,
   "metadata": {},
   "outputs": [],
   "source": [
    "# https://github.com/huggingface/notebooks/blob/master/examples/language_modeling_from_scratch.ipynb\n",
    "# https://github.com/huggingface/transformers/tree/master/notebooks\n",
    "# https://huggingface.co/transformers/model_doc/xlnet.html#transformers.XLNetTokenizer \n",
    "# https://colab.research.google.com/github/gmihaila/ml_things/blob/master/notebooks/pytorch/pretrain_transformers_pytorch.ipynb#scrollTo=VE2MRZZhd5uM "
   ]
  },
  {
   "cell_type": "code",
   "execution_count": 2,
   "metadata": {},
   "outputs": [],
   "source": [
    "import os\n",
    "os.environ['HF_HOME'] = os.path.join(os.getcwd(), 'hf_cache')\n",
    "\n",
    "from transformers import XLNetConfig, XLNetModel, XLNetTokenizer, XLNetTokenizerFast, XLNetLMHeadModel \n",
    "from datasets import load_dataset\n",
    "from transformers import Trainer, TrainingArguments\n",
    "from transformers.data.data_collator import DataCollatorForPermutationLanguageModeling\n",
    "from tqdm import tqdm\n",
    "from tokenizers import Tokenizer\n",
    "from tokenizers.pre_tokenizers import PreTokenizer\n",
    "import utils\n",
    "import train_utils\n",
    "import torch.optim as optim\n",
    "import torch"
   ]
  },
  {
   "cell_type": "code",
   "execution_count": 3,
   "metadata": {},
   "outputs": [],
   "source": [
    "base_tk = Tokenizer.from_file(\"models/tk-vs1000_frozen.json\")\n",
    "tokenizer = XLNetTokenizerFast(tokenizer_object=base_tk)\n",
    "tokenizer.backend_tokenizer.pre_tokinzer = PreTokenizer.custom(utils.SmilesPreTokenizer())"
   ]
  },
  {
   "cell_type": "code",
   "execution_count": 4,
   "metadata": {},
   "outputs": [
    {
     "name": "stderr",
     "output_type": "stream",
     "text": [
      "Using custom data configuration default-0250d14726bc71f8\n",
      "Reusing dataset csv (e:\\molnlp\\mol-prop\\hf_cache\\datasets\\csv\\default-0250d14726bc71f8\\0.0.0\\bf68a4c4aefa545d0712b2fcbb1b327f905bbe2f6425fbc5e8c25234acb9e14a)\n",
      "100%|██████████| 1/1 [00:00<00:00, 32.26it/s]\n",
      "Using custom data configuration default-d85d5e570e46467b\n",
      "Reusing dataset csv (e:\\molnlp\\mol-prop\\hf_cache\\datasets\\csv\\default-d85d5e570e46467b\\0.0.0\\bf68a4c4aefa545d0712b2fcbb1b327f905bbe2f6425fbc5e8c25234acb9e14a)\n",
      "100%|██████████| 1/1 [00:00<00:00, 103.10it/s]\n",
      "Using custom data configuration default-e9711672e6359f2b\n",
      "Reusing dataset csv (e:\\molnlp\\mol-prop\\hf_cache\\datasets\\csv\\default-e9711672e6359f2b\\0.0.0\\bf68a4c4aefa545d0712b2fcbb1b327f905bbe2f6425fbc5e8c25234acb9e14a)\n",
      "100%|██████████| 1/1 [00:00<00:00, 85.31it/s]\n"
     ]
    }
   ],
   "source": [
    "train_raw = load_dataset('csv', data_files=['data/ogb_molhiv/train_hiv.csv'])\n",
    "test_raw = load_dataset('csv', data_files=['data/ogb_molhiv/test_hiv.csv'])\n",
    "valid_raw = load_dataset('csv', data_files=['data/ogb_molhiv/valid_hiv.csv'])"
   ]
  },
  {
   "cell_type": "code",
   "execution_count": 5,
   "metadata": {},
   "outputs": [
    {
     "name": "stdout",
     "output_type": "stream",
     "text": [
      "CCOC(=O)C(=O)C1CCCCC1=O\n",
      "[282, 36, 27, 9, 24, 36, 10, 27, 9, 24, 36, 10, 27, 152, 282, 27, 219, 24, 36]\n",
      "['CC', 'O', 'C', '(', '=', 'O', ')', 'C', '(', '=', 'O', ')', 'C', '1C', 'CC', 'C', 'C1', '=', 'O']\n"
     ]
    }
   ],
   "source": [
    "test_id = 52\n",
    "print(train_raw['train'][test_id]['smiles'])\n",
    "#input_ids =tokenizer(train_raw['train'][test_id]['smiles'], padding='max_length', max_length=100)['input_ids'] \n",
    "input_ids =tokenizer(train_raw['train'][test_id]['smiles'])['input_ids'] \n",
    "print(input_ids)\n",
    "print(tokenizer.convert_ids_to_tokens(input_ids))"
   ]
  },
  {
   "cell_type": "code",
   "execution_count": 6,
   "metadata": {},
   "outputs": [
    {
     "name": "stdout",
     "output_type": "stream",
     "text": [
      "2\n",
      "0\n"
     ]
    }
   ],
   "source": [
    "\n",
    "print(tokenizer.pad_token_id)\n",
    "print(tokenizer.unk_token_id)"
   ]
  },
  {
   "cell_type": "code",
   "execution_count": 7,
   "metadata": {},
   "outputs": [
    {
     "name": "stderr",
     "output_type": "stream",
     "text": [
      "Loading cached processed dataset at e:\\molnlp\\mol-prop\\hf_cache\\datasets\\csv\\default-0250d14726bc71f8\\0.0.0\\bf68a4c4aefa545d0712b2fcbb1b327f905bbe2f6425fbc5e8c25234acb9e14a\\cache-2ece78330624ba18.arrow\n",
      "Loading cached processed dataset at e:\\molnlp\\mol-prop\\hf_cache\\datasets\\csv\\default-d85d5e570e46467b\\0.0.0\\bf68a4c4aefa545d0712b2fcbb1b327f905bbe2f6425fbc5e8c25234acb9e14a\\cache-3eba280d367ec463.arrow\n",
      "Loading cached processed dataset at e:\\molnlp\\mol-prop\\hf_cache\\datasets\\csv\\default-e9711672e6359f2b\\0.0.0\\bf68a4c4aefa545d0712b2fcbb1b327f905bbe2f6425fbc5e8c25234acb9e14a\\cache-68f33f311be8c23c.arrow\n"
     ]
    }
   ],
   "source": [
    "def tokenize_function_hiv(examples):\n",
    "    out_dict = tokenizer(examples[\"smiles\"])\n",
    "    return out_dict\n",
    "\n",
    "train_ds = train_raw.map(tokenize_function_hiv, batched=True, remove_columns=[\"smiles\",\"HIV_active\", \"mol_id\"])['train']\n",
    "test_ds = test_raw.map(tokenize_function_hiv, batched=True, remove_columns=[\"smiles\",\"HIV_active\", \"mol_id\"])['train']\n",
    "valid_ds = valid_raw.map(tokenize_function_hiv, batched=True, remove_columns=[\"smiles\",\"HIV_active\", \"mol_id\"])['train']"
   ]
  },
  {
   "cell_type": "code",
   "execution_count": 8,
   "metadata": {},
   "outputs": [],
   "source": [
    "class PadPermCollator():\n",
    "    def __init__(self, tokenizer, collator):\n",
    "        self.tokenizer = tokenizer\n",
    "        self.collator = collator\n",
    "    \n",
    "    def __call__(self, data_list):\n",
    "        max_len = -1\n",
    "        for d in data_list['input_ids']:\n",
    "            max_len = max(max_len, len(d))\n",
    "\n",
    "        if max_len % 2 != 0:\n",
    "            max_len += 1\n",
    "\n",
    "        pad_data = []\n",
    "        # Required because bath padding is not compatible with permutation collator\n",
    "        for i in range(len(data_list['input_ids'])):\n",
    "            data_dict = {\n",
    "                'attention_mask':data_list['attention_mask'][i],\n",
    "                'input_ids':data_list['input_ids'][i],\n",
    "                'token_type_ids':data_list['token_type_ids'][i]\n",
    "            }\n",
    "\n",
    "            pad_data.append(self.tokenizer.pad(data_dict,\n",
    "                      padding='max_length',\n",
    "                      max_length=max_len,\n",
    "                      return_tensors='pt'))\n",
    "            \n",
    "\n",
    "        return self.collator(pad_data)\n"
   ]
  },
  {
   "cell_type": "code",
   "execution_count": 9,
   "metadata": {},
   "outputs": [],
   "source": [
    "data_collator = PadPermCollator(tokenizer, DataCollatorForPermutationLanguageModeling(tokenizer=tokenizer))"
   ]
  },
  {
   "cell_type": "code",
   "execution_count": 10,
   "metadata": {},
   "outputs": [],
   "source": [
    "n_layer = 4\n",
    "model_config = XLNetConfig(\n",
    "    vocab_size=tokenizer.vocab_size,\n",
    "    n_layer=4,\n",
    "    bi_data=True,\n",
    "    pad_token_id=tokenizer.pad_token_id,\n",
    "    bos_token_id=tokenizer.bos_token_id,\n",
    "    eos_token_id=tokenizer.eos_token_id,\n",
    ")\n",
    "model = XLNetLMHeadModel(model_config)\n"
   ]
  },
  {
   "cell_type": "code",
   "execution_count": 11,
   "metadata": {},
   "outputs": [],
   "source": [
    "device = torch.device(\"cuda:0\" if torch.cuda.is_available() else \"cpu\")\n",
    "model = model.to(device)\n",
    "optimizer = optim.Adam(model.parameters(), lr=5e-6)"
   ]
  },
  {
   "cell_type": "code",
   "execution_count": 12,
   "metadata": {},
   "outputs": [
    {
     "name": "stderr",
     "output_type": "stream",
     "text": [
      "100%|██████████| 2056/2056 [00:40<00:00, 50.85it/s]\n"
     ]
    },
    {
     "name": "stdout",
     "output_type": "stream",
     "text": [
      "Valid Metrics: {'loss': 6.54390287399292}\n",
      "Epoch: 0\n"
     ]
    },
    {
     "name": "stderr",
     "output_type": "stream",
     "text": [
      "100%|██████████| 16450/16450 [14:59<00:00, 18.28it/s]\n"
     ]
    },
    {
     "name": "stdout",
     "output_type": "stream",
     "text": [
      "Train loss: 2.4338226318359375\n"
     ]
    },
    {
     "name": "stderr",
     "output_type": "stream",
     "text": [
      "100%|██████████| 2056/2056 [00:36<00:00, 57.10it/s]\n"
     ]
    },
    {
     "name": "stdout",
     "output_type": "stream",
     "text": [
      "Eval Metrics: {'loss': 2.230682134628296}\n"
     ]
    },
    {
     "name": "stderr",
     "output_type": "stream",
     "text": [
      "100%|██████████| 2056/2056 [00:36<00:00, 56.24it/s]\n"
     ]
    },
    {
     "name": "stdout",
     "output_type": "stream",
     "text": [
      "Valid Metrics: {'loss': 2.229670524597168}\n",
      "Epoch: 1\n"
     ]
    },
    {
     "name": "stderr",
     "output_type": "stream",
     "text": [
      "100%|██████████| 16450/16450 [14:07<00:00, 19.42it/s]\n"
     ]
    },
    {
     "name": "stdout",
     "output_type": "stream",
     "text": [
      "Train loss: 1.9859482049942017\n"
     ]
    },
    {
     "name": "stderr",
     "output_type": "stream",
     "text": [
      "100%|██████████| 2056/2056 [00:36<00:00, 56.97it/s]\n"
     ]
    },
    {
     "name": "stdout",
     "output_type": "stream",
     "text": [
      "Eval Metrics: {'loss': 2.059601306915283}\n"
     ]
    },
    {
     "name": "stderr",
     "output_type": "stream",
     "text": [
      "100%|██████████| 2056/2056 [00:36<00:00, 56.23it/s]\n"
     ]
    },
    {
     "name": "stdout",
     "output_type": "stream",
     "text": [
      "Valid Metrics: {'loss': 2.0357582569122314}\n",
      "Epoch: 2\n"
     ]
    },
    {
     "name": "stderr",
     "output_type": "stream",
     "text": [
      "100%|██████████| 16450/16450 [14:07<00:00, 19.42it/s]\n"
     ]
    },
    {
     "name": "stdout",
     "output_type": "stream",
     "text": [
      "Train loss: 1.82294762134552\n"
     ]
    },
    {
     "name": "stderr",
     "output_type": "stream",
     "text": [
      "100%|██████████| 2056/2056 [00:36<00:00, 56.86it/s]\n"
     ]
    },
    {
     "name": "stdout",
     "output_type": "stream",
     "text": [
      "Eval Metrics: {'loss': 1.9348437786102295}\n"
     ]
    },
    {
     "name": "stderr",
     "output_type": "stream",
     "text": [
      "100%|██████████| 2056/2056 [00:36<00:00, 56.16it/s]\n"
     ]
    },
    {
     "name": "stdout",
     "output_type": "stream",
     "text": [
      "Valid Metrics: {'loss': 1.923859715461731}\n",
      "Epoch: 3\n"
     ]
    },
    {
     "name": "stderr",
     "output_type": "stream",
     "text": [
      "100%|██████████| 16450/16450 [14:06<00:00, 19.42it/s]\n"
     ]
    },
    {
     "name": "stdout",
     "output_type": "stream",
     "text": [
      "Train loss: 1.7117762565612793\n"
     ]
    },
    {
     "name": "stderr",
     "output_type": "stream",
     "text": [
      "100%|██████████| 2056/2056 [00:36<00:00, 56.87it/s]\n"
     ]
    },
    {
     "name": "stdout",
     "output_type": "stream",
     "text": [
      "Eval Metrics: {'loss': 1.8135267496109009}\n"
     ]
    },
    {
     "name": "stderr",
     "output_type": "stream",
     "text": [
      "100%|██████████| 2056/2056 [00:36<00:00, 56.14it/s]\n"
     ]
    },
    {
     "name": "stdout",
     "output_type": "stream",
     "text": [
      "Valid Metrics: {'loss': 1.8034257888793945}\n",
      "Epoch: 4\n"
     ]
    },
    {
     "name": "stderr",
     "output_type": "stream",
     "text": [
      "100%|██████████| 16450/16450 [14:07<00:00, 19.41it/s]\n"
     ]
    },
    {
     "name": "stdout",
     "output_type": "stream",
     "text": [
      "Train loss: 1.6287366151809692\n"
     ]
    },
    {
     "name": "stderr",
     "output_type": "stream",
     "text": [
      "100%|██████████| 2056/2056 [00:36<00:00, 56.88it/s]\n"
     ]
    },
    {
     "name": "stdout",
     "output_type": "stream",
     "text": [
      "Eval Metrics: {'loss': 1.7473680973052979}\n"
     ]
    },
    {
     "name": "stderr",
     "output_type": "stream",
     "text": [
      "100%|██████████| 2056/2056 [00:36<00:00, 56.15it/s]\n"
     ]
    },
    {
     "name": "stdout",
     "output_type": "stream",
     "text": [
      "Valid Metrics: {'loss': 1.7224544286727905}\n",
      "Epoch: 5\n"
     ]
    },
    {
     "name": "stderr",
     "output_type": "stream",
     "text": [
      "100%|██████████| 16450/16450 [14:06<00:00, 19.43it/s]\n"
     ]
    },
    {
     "name": "stdout",
     "output_type": "stream",
     "text": [
      "Train loss: 1.5577058792114258\n"
     ]
    },
    {
     "name": "stderr",
     "output_type": "stream",
     "text": [
      "100%|██████████| 2056/2056 [00:36<00:00, 56.88it/s]\n"
     ]
    },
    {
     "name": "stdout",
     "output_type": "stream",
     "text": [
      "Eval Metrics: {'loss': 1.6711680889129639}\n"
     ]
    },
    {
     "name": "stderr",
     "output_type": "stream",
     "text": [
      "100%|██████████| 2056/2056 [00:36<00:00, 56.15it/s]\n"
     ]
    },
    {
     "name": "stdout",
     "output_type": "stream",
     "text": [
      "Valid Metrics: {'loss': 1.6705825328826904}\n",
      "Epoch: 6\n"
     ]
    },
    {
     "name": "stderr",
     "output_type": "stream",
     "text": [
      "100%|██████████| 16450/16450 [14:07<00:00, 19.40it/s]\n"
     ]
    },
    {
     "name": "stdout",
     "output_type": "stream",
     "text": [
      "Train loss: 1.5020606517791748\n"
     ]
    },
    {
     "name": "stderr",
     "output_type": "stream",
     "text": [
      "100%|██████████| 2056/2056 [00:35<00:00, 57.38it/s]\n"
     ]
    },
    {
     "name": "stdout",
     "output_type": "stream",
     "text": [
      "Eval Metrics: {'loss': 1.649501085281372}\n"
     ]
    },
    {
     "name": "stderr",
     "output_type": "stream",
     "text": [
      "100%|██████████| 2056/2056 [00:36<00:00, 56.63it/s]\n"
     ]
    },
    {
     "name": "stdout",
     "output_type": "stream",
     "text": [
      "Valid Metrics: {'loss': 1.6117969751358032}\n",
      "Epoch: 7\n"
     ]
    },
    {
     "name": "stderr",
     "output_type": "stream",
     "text": [
      "100%|██████████| 16450/16450 [14:07<00:00, 19.42it/s]\n"
     ]
    },
    {
     "name": "stdout",
     "output_type": "stream",
     "text": [
      "Train loss: 1.4490997791290283\n"
     ]
    },
    {
     "name": "stderr",
     "output_type": "stream",
     "text": [
      "100%|██████████| 2056/2056 [00:36<00:00, 56.87it/s]\n"
     ]
    },
    {
     "name": "stdout",
     "output_type": "stream",
     "text": [
      "Eval Metrics: {'loss': 1.5785216093063354}\n"
     ]
    },
    {
     "name": "stderr",
     "output_type": "stream",
     "text": [
      "100%|██████████| 2056/2056 [00:36<00:00, 56.32it/s]\n"
     ]
    },
    {
     "name": "stdout",
     "output_type": "stream",
     "text": [
      "Valid Metrics: {'loss': 1.5851281881332397}\n",
      "Epoch: 8\n"
     ]
    },
    {
     "name": "stderr",
     "output_type": "stream",
     "text": [
      "100%|██████████| 16450/16450 [14:07<00:00, 19.41it/s]\n"
     ]
    },
    {
     "name": "stdout",
     "output_type": "stream",
     "text": [
      "Train loss: 1.393820881843567\n"
     ]
    },
    {
     "name": "stderr",
     "output_type": "stream",
     "text": [
      "100%|██████████| 2056/2056 [00:35<00:00, 57.14it/s]\n"
     ]
    },
    {
     "name": "stdout",
     "output_type": "stream",
     "text": [
      "Eval Metrics: {'loss': 1.5545936822891235}\n"
     ]
    },
    {
     "name": "stderr",
     "output_type": "stream",
     "text": [
      "100%|██████████| 2056/2056 [00:36<00:00, 56.31it/s]\n"
     ]
    },
    {
     "name": "stdout",
     "output_type": "stream",
     "text": [
      "Valid Metrics: {'loss': 1.5321553945541382}\n",
      "Epoch: 9\n"
     ]
    },
    {
     "name": "stderr",
     "output_type": "stream",
     "text": [
      "100%|██████████| 16450/16450 [14:06<00:00, 19.42it/s]\n"
     ]
    },
    {
     "name": "stdout",
     "output_type": "stream",
     "text": [
      "Train loss: 1.362545371055603\n"
     ]
    },
    {
     "name": "stderr",
     "output_type": "stream",
     "text": [
      "100%|██████████| 2056/2056 [00:36<00:00, 56.70it/s]\n"
     ]
    },
    {
     "name": "stdout",
     "output_type": "stream",
     "text": [
      "Eval Metrics: {'loss': 1.5189673900604248}\n"
     ]
    },
    {
     "name": "stderr",
     "output_type": "stream",
     "text": [
      "100%|██████████| 2056/2056 [00:36<00:00, 56.24it/s]\n"
     ]
    },
    {
     "name": "stdout",
     "output_type": "stream",
     "text": [
      "Valid Metrics: {'loss': 1.4847633838653564}\n"
     ]
    }
   ],
   "source": [
    "train_utils.trainer(\n",
    "    model=model,\n",
    "    optimizer=optimizer,\n",
    "    collator=data_collator,\n",
    "    device=device,\n",
    "    train_ds=train_ds,\n",
    "    batch_size_train=2,\n",
    "    batch_size_eval=2,\n",
    "    num_epochs=10,\n",
    "    model_save_dir=f\"models/xlnet-hiv-pre\",\n",
    "    log_save_file=f\"results/xlnet-hiv-pre.log\",\n",
    "    compute_metrics=False,\n",
    "    eval_ds=test_ds,\n",
    "    valid_ds=valid_ds\n",
    ")"
   ]
  }
 ],
 "metadata": {
  "interpreter": {
   "hash": "908b0ba9a178eea73af43abb00217a0aee98ad2ae4b0fcf81e35eb59597dfae8"
  },
  "kernelspec": {
   "display_name": "Python 3.9.7 64-bit ('molnlp': conda)",
   "name": "python3"
  },
  "language_info": {
   "codemirror_mode": {
    "name": "ipython",
    "version": 3
   },
   "file_extension": ".py",
   "mimetype": "text/x-python",
   "name": "python",
   "nbconvert_exporter": "python",
   "pygments_lexer": "ipython3",
   "version": "3.9.7"
  },
  "orig_nbformat": 4
 },
 "nbformat": 4,
 "nbformat_minor": 2
}
