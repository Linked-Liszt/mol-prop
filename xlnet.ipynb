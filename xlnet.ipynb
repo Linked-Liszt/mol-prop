{
 "cells": [
  {
   "cell_type": "code",
   "execution_count": 1,
   "metadata": {},
   "outputs": [],
   "source": [
    "# https://github.com/huggingface/notebooks/blob/master/examples/language_modeling_from_scratch.ipynb\n",
    "# https://github.com/huggingface/transformers/tree/master/notebooks\n",
    "# https://huggingface.co/transformers/model_doc/xlnet.html#transformers.XLNetTokenizer \n",
    "# https://colab.research.google.com/github/gmihaila/ml_things/blob/master/notebooks/pytorch/pretrain_transformers_pytorch.ipynb#scrollTo=VE2MRZZhd5uM "
   ]
  },
  {
   "cell_type": "code",
   "execution_count": 2,
   "metadata": {},
   "outputs": [],
   "source": [
    "import os\n",
    "os.environ['HF_HOME'] = os.path.join(os.getcwd(), 'hf_cache')\n",
    "\n",
    "from transformers import XLNetConfig, XLNetModel, XLNetTokenizer, XLNetLMHeadModel \n",
    "from datasets import load_dataset\n",
    "from transformers import Trainer, TrainingArguments\n",
    "from transformers.data.data_collator import DataCollatorForPermutationLanguageModeling\n",
    "from tqdm import tqdm"
   ]
  },
  {
   "cell_type": "code",
   "execution_count": 3,
   "metadata": {},
   "outputs": [],
   "source": [
    "tokenizer = XLNetTokenizer(vocab_file='models/smiles_sp.model',\n",
    "                           do_lower_case=False,\n",
    "                           keep_accents=True\n",
    "                           )"
   ]
  },
  {
   "cell_type": "code",
   "execution_count": 4,
   "metadata": {},
   "outputs": [
    {
     "name": "stderr",
     "output_type": "stream",
     "text": [
      "Using custom data configuration default-ce80c9ae12ee94b9\n",
      "Reusing dataset text (e:\\molnlp\\mol-prop\\hf_cache\\datasets\\text\\default-ce80c9ae12ee94b9\\0.0.0\\e16f44aa1b321ece1f87b07977cc5d70be93d69b20486d6dacd62e12cf25c9a5)\n",
      "100%|██████████| 1/1 [00:01<00:00,  1.96s/it]\n"
     ]
    }
   ],
   "source": [
    "dataset = load_dataset('text', data_files=['data/proc_zinc/all.txt'])"
   ]
  },
  {
   "cell_type": "code",
   "execution_count": 5,
   "metadata": {},
   "outputs": [],
   "source": [
    "max_len_path = 'data/proc_zinc/max_len.txt'\n",
    "if os.path.exists(max_len_path):\n",
    "    max_len = int(open(max_len_path).read())\n",
    "else:\n",
    "    max_len = 0\n",
    "    with tqdm(total=len(dataset['train'])) as pbar:\n",
    "        for data in dataset['train']:\n",
    "            max_len = max(len(data['text']), max_len)\n",
    "            pbar.update(1)\n",
    "    with open(max_len_path, 'w') as f:\n",
    "        f.write(str(max_len))\n",
    "\n",
    "# Nessesary for the data collator\n",
    "if max_len % 2 == 1:\n",
    "    max_len += 1"
   ]
  },
  {
   "cell_type": "code",
   "execution_count": 6,
   "metadata": {},
   "outputs": [
    {
     "name": "stderr",
     "output_type": "stream",
     "text": [
      "Loading cached processed dataset at e:\\molnlp\\mol-prop\\hf_cache\\datasets\\text\\default-ce80c9ae12ee94b9\\0.0.0\\e16f44aa1b321ece1f87b07977cc5d70be93d69b20486d6dacd62e12cf25c9a5\\cache-4d1ea3612354c7f5.arrow\n"
     ]
    }
   ],
   "source": [
    "def tokenize_function(examples):\n",
    "    out_dict = tokenizer(examples[\"text\"])\n",
    "    return out_dict\n",
    "\n",
    "def tokenize_function_gpad(examples):\n",
    "    out_dict = tokenizer(examples[\"text\"], padding='max_length', max_length=max_len)\n",
    "    return out_dict\n",
    "\n",
    "tokenized_datasets = dataset.map(tokenize_function_gpad, batched=True, remove_columns=[\"text\"])"
   ]
  },
  {
   "cell_type": "code",
   "execution_count": 7,
   "metadata": {},
   "outputs": [],
   "source": [
    "model_config = XLNetConfig(\n",
    "    vocab_size=tokenizer.vocab_size,\n",
    "    n_layer=12,\n",
    "    bi_data=True\n",
    ")\n",
    "model = XLNetLMHeadModel(model_config)\n",
    "\n",
    "data_collator = DataCollatorForPermutationLanguageModeling(tokenizer=tokenizer)"
   ]
  },
  {
   "cell_type": "code",
   "execution_count": 8,
   "metadata": {},
   "outputs": [],
   "source": [
    "max_samples = 600000\n",
    "batch_size = 10\n",
    "max_steps = max_samples // batch_size\n",
    "save_steps = max_steps // 5\n",
    "training_args = TrainingArguments(\n",
    "    f\"models/xlnet-smiles-{max_samples}-{batch_size}\",\n",
    "    evaluation_strategy = \"epoch\",\n",
    "    learning_rate=2e-5,\n",
    "    weight_decay=0.01,\n",
    "    per_device_train_batch_size=batch_size,\n",
    "    num_train_epochs=1,\n",
    "    max_steps = max_steps,\n",
    "    save_steps=save_steps,\n",
    ")"
   ]
  },
  {
   "cell_type": "code",
   "execution_count": 9,
   "metadata": {},
   "outputs": [
    {
     "name": "stderr",
     "output_type": "stream",
     "text": [
      "max_steps is given, it will override any value given in num_train_epochs\n"
     ]
    }
   ],
   "source": [
    "trainer = Trainer(\n",
    "    model=model,\n",
    "    args=training_args,\n",
    "    train_dataset=tokenized_datasets['train'],\n",
    "    data_collator=data_collator\n",
    ")"
   ]
  },
  {
   "cell_type": "code",
   "execution_count": 10,
   "metadata": {},
   "outputs": [
    {
     "name": "stderr",
     "output_type": "stream",
     "text": [
      "***** Running training *****\n",
      "  Num examples = 6072715\n",
      "  Num Epochs = 1\n",
      "  Instantaneous batch size per device = 10\n",
      "  Total train batch size (w. parallel, distributed & accumulation) = 10\n",
      "  Gradient Accumulation steps = 1\n",
      "  Total optimization steps = 75000\n",
      "  0%|          | 71/75000 [00:47<13:07:56,  1.58it/s]"
     ]
    }
   ],
   "source": [
    "trainer.train()"
   ]
  }
 ],
 "metadata": {
  "interpreter": {
   "hash": "908b0ba9a178eea73af43abb00217a0aee98ad2ae4b0fcf81e35eb59597dfae8"
  },
  "kernelspec": {
   "display_name": "Python 3.9.7 64-bit ('molnlp': conda)",
   "name": "python3"
  },
  "language_info": {
   "codemirror_mode": {
    "name": "ipython",
    "version": 3
   },
   "file_extension": ".py",
   "mimetype": "text/x-python",
   "name": "python",
   "nbconvert_exporter": "python",
   "pygments_lexer": "ipython3",
   "version": "3.9.7"
  },
  "orig_nbformat": 4
 },
 "nbformat": 4,
 "nbformat_minor": 2
}
