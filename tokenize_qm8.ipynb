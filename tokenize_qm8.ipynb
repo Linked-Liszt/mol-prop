{
 "cells": [
  {
   "cell_type": "code",
   "execution_count": 11,
   "metadata": {},
   "outputs": [],
   "source": [
    "from tokenizers import SentencePieceBPETokenizer\n",
    "import utils\n",
    "from tokenizers import Tokenizer\n",
    "from tokenizers.models import BPE\n",
    "from tokenizers.pre_tokenizers import PreTokenizer\n",
    "from transformers import XLNetTokenizer\n",
    "from tokenizers.pre_tokenizers import Split, Whitespace\n",
    "import pickle\n",
    "from tokenizers.trainers import BpeTrainer\n",
    "import utils"
   ]
  },
  {
   "cell_type": "code",
   "execution_count": 2,
   "metadata": {},
   "outputs": [],
   "source": [
    "with open('data/qm8/qm8.csv', 'r') as hiv_f, open('data/qm8/qm8.txt', 'w') as hiv_raw:\n",
    "    next(hiv_f)\n",
    "    for line in hiv_f:\n",
    "        hiv_raw.write(line.split(',')[-0] + '\\n')"
   ]
  },
  {
   "cell_type": "code",
   "execution_count": 3,
   "metadata": {},
   "outputs": [
    {
     "ename": "NameError",
     "evalue": "name 'Tokenizer' is not defined",
     "output_type": "error",
     "traceback": [
      "\u001b[1;31m---------------------------------------------------------------------------\u001b[0m",
      "\u001b[1;31mNameError\u001b[0m                                 Traceback (most recent call last)",
      "\u001b[1;32m~\\AppData\\Local\\Temp/ipykernel_13680/1791079114.py\u001b[0m in \u001b[0;36m<module>\u001b[1;34m\u001b[0m\n\u001b[1;32m----> 1\u001b[1;33m \u001b[0mtok\u001b[0m \u001b[1;33m=\u001b[0m \u001b[0mTokenizer\u001b[0m\u001b[1;33m(\u001b[0m\u001b[0mBPE\u001b[0m\u001b[1;33m(\u001b[0m\u001b[1;33m)\u001b[0m\u001b[1;33m)\u001b[0m\u001b[1;33m\u001b[0m\u001b[1;33m\u001b[0m\u001b[0m\n\u001b[0m\u001b[0;32m      2\u001b[0m \u001b[0mpre_tokenizer\u001b[0m \u001b[1;33m=\u001b[0m \u001b[0mPreTokenizer\u001b[0m\u001b[1;33m.\u001b[0m\u001b[0mcustom\u001b[0m\u001b[1;33m(\u001b[0m\u001b[0mutils\u001b[0m\u001b[1;33m.\u001b[0m\u001b[0mSmilesPreTokenizer\u001b[0m\u001b[1;33m(\u001b[0m\u001b[1;33m)\u001b[0m\u001b[1;33m)\u001b[0m\u001b[1;33m\u001b[0m\u001b[1;33m\u001b[0m\u001b[0m\n\u001b[0;32m      3\u001b[0m \u001b[1;31m#pre_tokenizer = Split(pattern=utils.SMI_REGEX_PATTERN, behavior='merged_with_previous', invert=True)\u001b[0m\u001b[1;33m\u001b[0m\u001b[1;33m\u001b[0m\u001b[0m\n\u001b[0;32m      4\u001b[0m \u001b[0mprint\u001b[0m\u001b[1;33m(\u001b[0m\u001b[0mpre_tokenizer\u001b[0m\u001b[1;33m.\u001b[0m\u001b[0mpre_tokenize_str\u001b[0m\u001b[1;33m(\u001b[0m\u001b[1;34m'CS(=O)(=O)OCCCCOS(C)(=O)=O'\u001b[0m\u001b[1;33m)\u001b[0m\u001b[1;33m)\u001b[0m\u001b[1;33m\u001b[0m\u001b[1;33m\u001b[0m\u001b[0m\n",
      "\u001b[1;31mNameError\u001b[0m: name 'Tokenizer' is not defined"
     ]
    }
   ],
   "source": [
    "tok = Tokenizer(BPE())\n",
    "pre_tokenizer = PreTokenizer.custom(utils.SmilesPreTokenizer())\n",
    "#pre_tokenizer = Split(pattern=utils.SMI_REGEX_PATTERN, behavior='merged_with_previous', invert=True)\n",
    "print(pre_tokenizer.pre_tokenize_str('CS(=O)(=O)OCCCCOS(C)(=O)=O'))"
   ]
  },
  {
   "cell_type": "code",
   "execution_count": 14,
   "metadata": {},
   "outputs": [],
   "source": [
    "special_tokens = [\"<unk>\", \"<sep>\", \"<pad>\", \"<cls>\", \"<mask\", \"<eop>\", \"<eod>\"]\n",
    "tokenizer = Tokenizer(BPE())\n",
    "tokenizer.pre_tokenizer = PreTokenizer.custom(utils.SmilesPreTokenizer())\n"
   ]
  },
  {
   "cell_type": "code",
   "execution_count": 15,
   "metadata": {},
   "outputs": [
    {
     "name": "stdout",
     "output_type": "stream",
     "text": [
      "\n",
      "\n",
      "\n"
     ]
    }
   ],
   "source": [
    "vocab_sizes = [5000, 10000]\n",
    "for vsize in vocab_sizes:\n",
    "    trainer = BpeTrainer(vocab_size=vsize, special_tokens=special_tokens, show_progress=True)\n",
    "    files = ['data/qm8/qm8.txt']\n",
    "    tokenizer.train(files, trainer)\n",
    "    tokenizer.pre_tokenizer = Whitespace()\n",
    "    tokenizer.save(f\"models/tk_vs{vsize}_qm8.json\")"
   ]
  }
 ],
 "metadata": {
  "interpreter": {
   "hash": "d6b4c48b5ce735231575875d44944f6382cbf5d8aa4a5aa5659253d82899c9bc"
  },
  "kernelspec": {
   "display_name": "Python 3.9.7 64-bit ('molnlp': conda)",
   "name": "python3"
  },
  "language_info": {
   "codemirror_mode": {
    "name": "ipython",
    "version": 3
   },
   "file_extension": ".py",
   "mimetype": "text/x-python",
   "name": "python",
   "nbconvert_exporter": "python",
   "pygments_lexer": "ipython3",
   "version": "3.9.7"
  },
  "orig_nbformat": 4
 },
 "nbformat": 4,
 "nbformat_minor": 2
}
