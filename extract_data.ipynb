{
 "cells": [
  {
   "cell_type": "code",
   "execution_count": 16,
   "metadata": {},
   "outputs": [],
   "source": [
    "import numpy as np"
   ]
  },
  {
   "cell_type": "code",
   "execution_count": 17,
   "metadata": {},
   "outputs": [],
   "source": [
    "def read_data(data_fp):\n",
    "    with open(data_fp, 'r') as f:\n",
    "        lines = f.readlines()\n",
    "    train_loss = []\n",
    "    valid_loss = []\n",
    "    test_loss = []\n",
    "    valid_roc = []\n",
    "    test_roc = []\n",
    "\n",
    "    for line in lines:\n",
    "        if line.startswith('Valid'):\n",
    "            valid_loss.append(float(line.split(' ')[7][:-2]))\n",
    "            valid_roc.append(float(line.split(' ')[5][:-1]))\n",
    "        if line.startswith('Eval'):\n",
    "            test_loss.append(float(line.split(' ')[7][:-2]))\n",
    "            test_roc.append(float(line.split(' ')[5][:-1]))\n",
    "        if line.startswith('Epoch'):\n",
    "            train_loss.append(float(line.split(' ')[4][:-1]))\n",
    "    \n",
    "    return train_loss, valid_loss, test_loss, valid_roc, test_roc"
   ]
  },
  {
   "cell_type": "code",
   "execution_count": 33,
   "metadata": {},
   "outputs": [],
   "source": [
    "data_fps = [\n",
    "    'results/xlnet-hiv-e0.log',\n",
    "    'results/xlnet-hiv-e3.log',\n",
    "    'results/xlnet-hiv-e6.log',\n",
    "    'results/xlnet-hiv-e9.log',\n",
    "]"
   ]
  },
  {
   "cell_type": "code",
   "execution_count": 34,
   "metadata": {},
   "outputs": [
    {
     "name": "stdout",
     "output_type": "stream",
     "text": [
      "results/deberta-hiv-deberta-v5k-e30.log: 26 0.7626646833829154 0.7711103148132835\n",
      "results/deberta-hiv-deberta-v5k-e48.log: 18 0.7774446547927211 0.7909963217165732\n"
     ]
    }
   ],
   "source": [
    "for data_fp in data_fps:\n",
    "    tr_loss, v_loss, te_loss, va_roc, te_roc = read_data(data_fp)\n",
    "    best_idx = np.argmax(te_roc)\n",
    "    print(f'{data_fp}: {np.argmax(te_roc)} {te_roc[best_idx]} {va_roc[best_idx + 1]}')"
   ]
  }
 ],
 "metadata": {
  "interpreter": {
   "hash": "908b0ba9a178eea73af43abb00217a0aee98ad2ae4b0fcf81e35eb59597dfae8"
  },
  "kernelspec": {
   "display_name": "Python 3.9.7 64-bit ('molnlp': conda)",
   "name": "python3"
  },
  "language_info": {
   "codemirror_mode": {
    "name": "ipython",
    "version": 3
   },
   "file_extension": ".py",
   "mimetype": "text/x-python",
   "name": "python",
   "nbconvert_exporter": "python",
   "pygments_lexer": "ipython3",
   "version": "3.9.7"
  },
  "orig_nbformat": 4
 },
 "nbformat": 4,
 "nbformat_minor": 2
}
