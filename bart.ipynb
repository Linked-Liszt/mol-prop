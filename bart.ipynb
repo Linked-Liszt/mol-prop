{
 "cells": [
  {
   "cell_type": "code",
   "execution_count": 1,
   "metadata": {},
   "outputs": [],
   "source": [
    "# https://github.com/huggingface/notebooks/blob/master/examples/language_modeling_from_scratch.ipynb\n",
    "# https://github.com/huggingface/transformers/tree/master/notebooks\n",
    "# https://huggingface.co/transformers/model_doc/xlnet.html#transformers.XLNetTokenizer \n",
    "# https://colab.research.google.com/github/gmihaila/ml_things/blob/master/notebooks/pytorch/pretrain_transformers_pytorch.ipynb#scrollTo=VE2MRZZhd5uM "
   ]
  },
  {
   "cell_type": "code",
   "execution_count": 2,
   "metadata": {},
   "outputs": [],
   "source": [
    "import os\n",
    "os.environ['HF_HOME'] = os.path.join(os.getcwd(), 'hf_cache')\n",
    "\n",
    "from transformers import BartTokenizerFast, BartConfig, BartForConditionalGeneration, BartForSequenceClassification\n",
    "from datasets import load_dataset\n",
    "from transformers import Trainer, TrainingArguments\n",
    "from transformers.data.data_collator import DataCollatorForLanguageModeling\n",
    "from tokenizers import Tokenizer\n",
    "from tqdm import tqdm\n",
    "from tokenizers.pre_tokenizers import PreTokenizer\n",
    "import utils"
   ]
  },
  {
   "cell_type": "code",
   "execution_count": 3,
   "metadata": {},
   "outputs": [],
   "source": [
    "base_tk = Tokenizer.from_file(\"models/tk-vs1000.json\")\n",
    "tokenizer = BartTokenizerFast(tokenizer_object=base_tk)\n",
    "tokenizer.backend_tokenizer.pre_tokinzer = PreTokenizer.custom(utils.SmilesPreTokenizer())"
   ]
  },
  {
   "cell_type": "code",
   "execution_count": 4,
   "metadata": {},
   "outputs": [
    {
     "name": "stdout",
     "output_type": "stream",
     "text": [
      "[('CS', (0, 2)), ('(=', (2, 4)), ('O', (4, 5)), (')(=', (5, 8)), ('O', (8, 9)), (')', (9, 10)), ('OCCCCOS', (10, 17)), ('(', (17, 18)), ('C', (18, 19)), (')(=', (19, 22)), ('O', (22, 23)), (')=', (23, 25)), ('O', (25, 26))]\n"
     ]
    }
   ],
   "source": [
    "print(tokenizer.backend_tokenizer.pre_tokenizer.pre_tokenize_str('CS(=O)(=O)OCCCCOS(C)(=O)=O'))"
   ]
  },
  {
   "cell_type": "code",
   "execution_count": 5,
   "metadata": {},
   "outputs": [
    {
     "name": "stdout",
     "output_type": "stream",
     "text": [
      "{'input_ids': [27, 39, 9, 24, 36, 164, 24, 36, 10, 36, 282, 282, 36, 39, 9, 27, 164, 24, 36, 10, 24, 36], 'attention_mask': [1, 1, 1, 1, 1, 1, 1, 1, 1, 1, 1, 1, 1, 1, 1, 1, 1, 1, 1, 1, 1, 1]}\n",
      "[27, 39, 9, 24, 36, 164, 24, 36, 10, 36, 282, 282, 36, 39, 9, 27, 164, 24, 36, 10, 24, 36]\n"
     ]
    }
   ],
   "source": [
    "print(tokenizer('CS(=O)(=O)OCCCCOS(C)(=O)=O'))\n",
    "print(base_tk.encode('CS(=O)(=O)OCCCCOS(C)(=O)=O').ids)"
   ]
  },
  {
   "cell_type": "code",
   "execution_count": 6,
   "metadata": {},
   "outputs": [
    {
     "name": "stderr",
     "output_type": "stream",
     "text": [
      "Using custom data configuration default-0250d14726bc71f8\n",
      "Reusing dataset csv (e:\\molnlp\\mol-prop\\hf_cache\\datasets\\csv\\default-0250d14726bc71f8\\0.0.0\\bf68a4c4aefa545d0712b2fcbb1b327f905bbe2f6425fbc5e8c25234acb9e14a)\n",
      "100%|██████████| 1/1 [00:00<00:00, 92.18it/s]\n",
      "Using custom data configuration default-d85d5e570e46467b\n",
      "Reusing dataset csv (e:\\molnlp\\mol-prop\\hf_cache\\datasets\\csv\\default-d85d5e570e46467b\\0.0.0\\bf68a4c4aefa545d0712b2fcbb1b327f905bbe2f6425fbc5e8c25234acb9e14a)\n",
      "100%|██████████| 1/1 [00:00<00:00, 56.86it/s]\n",
      "Using custom data configuration default-e9711672e6359f2b\n",
      "Reusing dataset csv (e:\\molnlp\\mol-prop\\hf_cache\\datasets\\csv\\default-e9711672e6359f2b\\0.0.0\\bf68a4c4aefa545d0712b2fcbb1b327f905bbe2f6425fbc5e8c25234acb9e14a)\n",
      "100%|██████████| 1/1 [00:00<00:00, 51.53it/s]\n"
     ]
    }
   ],
   "source": [
    "train_raw = load_dataset('csv', data_files=['data/ogb_molhiv/train_hiv.csv'])\n",
    "test_raw = load_dataset('csv', data_files=['data/ogb_molhiv/test_hiv.csv'])\n",
    "valid_raw = load_dataset('csv', data_files=['data/ogb_molhiv/valid_hiv.csv'])"
   ]
  },
  {
   "cell_type": "code",
   "execution_count": 7,
   "metadata": {},
   "outputs": [
    {
     "name": "stdout",
     "output_type": "stream",
     "text": [
      "CCOP(=O)(Nc1cccc(Cl)c1)OCC\n",
      "[282, 36, 37, 9, 24, 36, 164, 35, 169, 339, 339, 9, 63, 10, 169, 10, 36, 282]\n",
      "['CC', 'O', 'P', '(', '=', 'O', ')(', 'N', 'c1', 'cc', 'cc', '(', 'Cl', ')', 'c1', ')', 'O', 'CC']\n"
     ]
    }
   ],
   "source": [
    "print(train_raw['train'][2]['smiles'])\n",
    "input_ids =tokenizer(train_raw['train'][2]['smiles'])['input_ids'] \n",
    "print(input_ids)\n",
    "print(tokenizer.convert_ids_to_tokens(input_ids))"
   ]
  },
  {
   "cell_type": "code",
   "execution_count": 8,
   "metadata": {},
   "outputs": [
    {
     "name": "stderr",
     "output_type": "stream",
     "text": [
      "Loading cached processed dataset at e:\\molnlp\\mol-prop\\hf_cache\\datasets\\csv\\default-0250d14726bc71f8\\0.0.0\\bf68a4c4aefa545d0712b2fcbb1b327f905bbe2f6425fbc5e8c25234acb9e14a\\cache-dc8bc250afca4aba.arrow\n",
      "Loading cached processed dataset at e:\\molnlp\\mol-prop\\hf_cache\\datasets\\csv\\default-d85d5e570e46467b\\0.0.0\\bf68a4c4aefa545d0712b2fcbb1b327f905bbe2f6425fbc5e8c25234acb9e14a\\cache-468f9bcc2904cb0a.arrow\n",
      "Loading cached processed dataset at e:\\molnlp\\mol-prop\\hf_cache\\datasets\\csv\\default-e9711672e6359f2b\\0.0.0\\bf68a4c4aefa545d0712b2fcbb1b327f905bbe2f6425fbc5e8c25234acb9e14a\\cache-a28da0cac3fa6b90.arrow\n"
     ]
    }
   ],
   "source": [
    "def tokenize_function_hiv(examples):\n",
    "    out_dict = tokenizer(examples[\"smiles\"])\n",
    "    return out_dict\n",
    "\n",
    "train_ds = train_raw.map(tokenize_function_hiv, batched=True, remove_columns=[\"smiles\",\"HIV_active\", \"mol_id\"])['train']\n",
    "test_ds = test_raw.map(tokenize_function_hiv, batched=True, remove_columns=[\"smiles\",\"HIV_active\", \"mol_id\"])['train']\n",
    "valid_ds = valid_raw.map(tokenize_function_hiv, batched=True, remove_columns=[\"smiles\",\"HIV_active\", \"mol_id\"])['train']"
   ]
  },
  {
   "cell_type": "code",
   "execution_count": 9,
   "metadata": {},
   "outputs": [],
   "source": [
    "n_layer = 4\n",
    "model_config = BartConfig(\n",
    "    vocab_size=tokenizer.vocab_size,\n",
    "    encoder_layers=n_layer,\n",
    "    decoder_layers=n_layer\n",
    ")\n",
    "model = BartForConditionalGeneration(model_config)\n",
    "\n",
    "data_collator = DataCollatorForLanguageModeling(tokenizer=tokenizer, mlm=True)"
   ]
  },
  {
   "cell_type": "code",
   "execution_count": 10,
   "metadata": {},
   "outputs": [],
   "source": [
    "batch_size = 3\n",
    "training_args = TrainingArguments(\n",
    "    f\"models/bart-pre-hiv-b{batch_size}-l{n_layer}\",\n",
    "    evaluation_strategy = \"epoch\",\n",
    "    learning_rate=2e-5,\n",
    "    weight_decay=0.01,\n",
    "    per_device_train_batch_size=batch_size,\n",
    "    per_device_eval_batch_size=batch_size,\n",
    "    num_train_epochs=50,\n",
    "    save_strategy='epoch'\n",
    ")"
   ]
  },
  {
   "cell_type": "code",
   "execution_count": 11,
   "metadata": {},
   "outputs": [],
   "source": [
    "trainer = Trainer(\n",
    "    model=model,\n",
    "    args=training_args,\n",
    "    train_dataset=train_ds,\n",
    "    eval_dataset=valid_ds,\n",
    "    data_collator=data_collator\n",
    ")"
   ]
  },
  {
   "cell_type": "code",
   "execution_count": null,
   "metadata": {},
   "outputs": [],
   "source": [
    "trainer.train()"
   ]
  }
 ],
 "metadata": {
  "interpreter": {
   "hash": "908b0ba9a178eea73af43abb00217a0aee98ad2ae4b0fcf81e35eb59597dfae8"
  },
  "kernelspec": {
   "display_name": "Python 3.9.7 64-bit ('molnlp': conda)",
   "name": "python3"
  },
  "language_info": {
   "codemirror_mode": {
    "name": "ipython",
    "version": 3
   },
   "file_extension": ".py",
   "mimetype": "text/x-python",
   "name": "python",
   "nbconvert_exporter": "python",
   "pygments_lexer": "ipython3",
   "version": "3.9.7"
  },
  "orig_nbformat": 4
 },
 "nbformat": 4,
 "nbformat_minor": 2
}
