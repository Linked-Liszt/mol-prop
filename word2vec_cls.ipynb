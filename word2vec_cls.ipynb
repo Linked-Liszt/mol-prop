{
 "cells": [
  {
   "cell_type": "code",
   "execution_count": 17,
   "source": [
    "import utils\r\n",
    "import torch.nn as nn\r\n",
    "import torch.nn.functional as F\r\n",
    "from tqdm import tqdm\r\n",
    "import pickle\r\n",
    "import torch\r\n",
    "from typing import List, Tuple\r\n",
    "import numpy as np\r\n",
    "import matplotlib.pyplot as plt"
   ],
   "outputs": [],
   "metadata": {}
  },
  {
   "cell_type": "code",
   "execution_count": 12,
   "source": [
    "class SkipGram(torch.nn.Module):\r\n",
    "    def __init__(self, vocab_size: int, emb_size: int):\r\n",
    "        super().__init__()\r\n",
    "        self.emb = nn.Embedding(vocab_size, emb_size)\r\n",
    "        self.out = nn.Linear(emb_size, vocab_size)\r\n",
    "        self.vocab_size = vocab_size\r\n",
    "\r\n",
    "    def forward(self, word_id: int):\r\n",
    "        x = self.emb(word_id)\r\n",
    "        x = self.out(x)\r\n",
    "        return F.log_softmax(x, dim=-1)\r\n",
    "    \r\n",
    "    def get_emb(self, word_id: torch.Tensor):\r\n",
    "        return self.emb(word_id)\r\n",
    "\r\n",
    "\r\n",
    "class Classifier(torch.nn.Module):\r\n",
    "    def __init__(self, emb_size: int, num_hidden: int, hidden_size: int):\r\n",
    "        super().__init__()\r\n",
    "        self.start = nn.Linear(emb_size, hidden_size)\r\n",
    "        self.hidden = nn.ModuleList()\r\n",
    "        for _ in range(num_hidden):\r\n",
    "            self.hidden.append(nn.Linear(hidden_size, hidden_size))\r\n",
    "        self.end = nn.Linear(hidden_size, 1)\r\n",
    "    \r\n",
    "    def forward(self, x: torch.Tensor):\r\n",
    "        x = self.start(x)\r\n",
    "        x = F.relu(x)\r\n",
    "        for h in self.hidden:\r\n",
    "            x = F.relu(h(x))\r\n",
    "        x = self.end(x)\r\n",
    "        x = torch.sigmoid(x)\r\n",
    "        return x\r\n",
    "\r\n",
    "def compute_emb(model: nn.Module, molecule: List[str], vocab: dict, device: torch.device) -> torch.Tensor:\r\n",
    "    word_id = [vocab[w] for w in molecule]\r\n",
    "    emb = model.get_emb(torch.tensor(word_id).to(device)).detach()\r\n",
    "    return torch.mean(emb, dim=0)"
   ],
   "outputs": [],
   "metadata": {}
  },
  {
   "cell_type": "code",
   "execution_count": 13,
   "source": [
    "device = torch.device('cuda' if torch.cuda.is_available() else 'cpu')\r\n",
    "\r\n",
    "with open('models/wdict.p', 'rb') as wdict_file:\r\n",
    "    wdict = pickle.load(wdict_file)\r\n",
    "emb_net = SkipGram(vocab_size=len(wdict), emb_size=300)\r\n",
    "emb_net.load_state_dict(torch.load('models/emb.pt'))\r\n",
    "emb_net = emb_net.to(device)\r\n",
    "raw_data, ys = utils.import_smiles('data/HIV.csv', skiprow=True, include_y=True)"
   ],
   "outputs": [],
   "metadata": {}
  },
  {
   "cell_type": "code",
   "execution_count": 14,
   "source": [
    "dataset = []\r\n",
    "for molecule, y in zip(raw_data, ys):\r\n",
    "    dataset.append((compute_emb(emb_net, molecule, wdict, device), torch.tensor(y).to(device, dtype=torch.float)))"
   ],
   "outputs": [],
   "metadata": {}
  },
  {
   "cell_type": "code",
   "execution_count": 24,
   "source": [
    "dataloader = torch.utils.data.DataLoader(dataset, batch_size=1024, shuffle=True)\r\n",
    "classifier = Classifier(300, 3, 1024).to(device)\r\n",
    "optimizer = torch.optim.Adam(classifier.parameters(), lr=0.001) "
   ],
   "outputs": [],
   "metadata": {}
  },
  {
   "cell_type": "code",
   "execution_count": 25,
   "source": [
    "losses = []\r\n",
    "for epoch in range(100):\r\n",
    "    epoch_loss = []\r\n",
    "    with tqdm() as pbar:\r\n",
    "        pbar.set_description(f'Epoch {epoch}')\r\n",
    "        for embedding, y in dataloader:\r\n",
    "            optimizer.zero_grad()\r\n",
    "            out = classifier(embedding)\r\n",
    "            loss = F.binary_cross_entropy(torch.squeeze(out), y)\r\n",
    "            loss.backward()\r\n",
    "            optimizer.step()\r\n",
    "            pbar.update(1)\r\n",
    "            epoch_loss.append(loss.item())\r\n",
    "        losses.append(np.mean(epoch_loss))\r\n",
    "        pbar.set_postfix({'loss': np.mean(epoch_loss)})"
   ],
   "outputs": [
    {
     "output_type": "stream",
     "name": "stderr",
     "text": [
      "Epoch 0: : 41it [00:00, 77.21it/s, loss=0.21]\n",
      "Epoch 1: : 41it [00:00, 82.50it/s, loss=0.147]\n",
      "Epoch 2: : 41it [00:00, 72.85it/s, loss=0.144]\n",
      "Epoch 3: : 41it [00:00, 82.66it/s, loss=0.14]\n",
      "Epoch 4: : 41it [00:00, 82.99it/s, loss=0.139]\n",
      "Epoch 5: : 41it [00:00, 82.63it/s, loss=0.136]\n",
      "Epoch 6: : 41it [00:00, 82.70it/s, loss=0.134]\n",
      "Epoch 7: : 41it [00:00, 82.40it/s, loss=0.134]\n",
      "Epoch 8: : 41it [00:00, 83.36it/s, loss=0.13]\n",
      "Epoch 9: : 41it [00:00, 83.15it/s, loss=0.13]\n",
      "Epoch 10: : 41it [00:00, 76.64it/s, loss=0.128]\n",
      "Epoch 11: : 41it [00:00, 81.50it/s, loss=0.125]\n",
      "Epoch 12: : 41it [00:00, 85.95it/s, loss=0.124]\n",
      "Epoch 13: : 41it [00:00, 85.06it/s, loss=0.124]\n",
      "Epoch 14: : 41it [00:00, 85.24it/s, loss=0.122]\n",
      "Epoch 15: : 41it [00:00, 85.42it/s, loss=0.119]\n",
      "Epoch 16: : 41it [00:00, 84.02it/s, loss=0.119]\n",
      "Epoch 17: : 41it [00:00, 84.89it/s, loss=0.118]\n",
      "Epoch 18: : 41it [00:00, 85.24it/s, loss=0.115]\n",
      "Epoch 19: : 41it [00:00, 84.36it/s, loss=0.116]\n",
      "Epoch 20: : 41it [00:00, 84.46it/s, loss=0.116]\n",
      "Epoch 21: : 41it [00:00, 83.67it/s, loss=0.117]\n",
      "Epoch 22: : 41it [00:00, 84.61it/s, loss=0.112]\n",
      "Epoch 23: : 41it [00:00, 84.52it/s, loss=0.113]\n",
      "Epoch 24: : 41it [00:00, 84.22it/s, loss=0.114]\n",
      "Epoch 25: : 41it [00:00, 84.18it/s, loss=0.112]\n",
      "Epoch 26: : 41it [00:00, 87.14it/s, loss=0.108]\n",
      "Epoch 27: : 41it [00:00, 86.50it/s, loss=0.109]\n",
      "Epoch 28: : 41it [00:00, 85.95it/s, loss=0.11]\n",
      "Epoch 29: : 41it [00:00, 86.68it/s, loss=0.109]\n",
      "Epoch 30: : 41it [00:00, 86.13it/s, loss=0.105]\n",
      "Epoch 31: : 41it [00:00, 86.32it/s, loss=0.105]\n",
      "Epoch 32: : 41it [00:00, 76.78it/s, loss=0.107]\n",
      "Epoch 33: : 41it [00:00, 86.86it/s, loss=0.102]\n",
      "Epoch 34: : 41it [00:00, 87.23it/s, loss=0.103]\n",
      "Epoch 35: : 41it [00:00, 86.86it/s, loss=0.105]\n",
      "Epoch 36: : 41it [00:00, 84.36it/s, loss=0.101]\n",
      "Epoch 37: : 41it [00:00, 84.02it/s, loss=0.0999]\n",
      "Epoch 38: : 41it [00:00, 86.86it/s, loss=0.0979]\n",
      "Epoch 39: : 41it [00:00, 87.05it/s, loss=0.0978]\n",
      "Epoch 40: : 41it [00:00, 86.32it/s, loss=0.0979]\n",
      "Epoch 41: : 41it [00:00, 87.79it/s, loss=0.097]\n",
      "Epoch 42: : 41it [00:00, 86.50it/s, loss=0.0968]\n",
      "Epoch 43: : 41it [00:00, 86.86it/s, loss=0.0975]\n",
      "Epoch 44: : 41it [00:00, 87.42it/s, loss=0.0956]\n",
      "Epoch 45: : 41it [00:00, 86.50it/s, loss=0.0931]\n",
      "Epoch 46: : 41it [00:00, 86.68it/s, loss=0.0932]\n",
      "Epoch 47: : 41it [00:00, 87.42it/s, loss=0.0923]\n",
      "Epoch 48: : 41it [00:00, 86.68it/s, loss=0.0905]\n",
      "Epoch 49: : 41it [00:00, 87.23it/s, loss=0.0925]\n",
      "Epoch 50: : 41it [00:00, 87.79it/s, loss=0.0908]\n",
      "Epoch 51: : 41it [00:00, 85.42it/s, loss=0.0917]\n",
      "Epoch 52: : 41it [00:00, 81.67it/s, loss=0.0864]\n",
      "Epoch 53: : 41it [00:00, 75.57it/s, loss=0.0844]\n",
      "Epoch 54: : 41it [00:00, 80.86it/s, loss=0.0854]\n",
      "Epoch 55: : 41it [00:00, 78.53it/s, loss=0.0844]\n",
      "Epoch 56: : 41it [00:00, 84.19it/s, loss=0.0818]\n",
      "Epoch 57: : 41it [00:00, 87.42it/s, loss=0.0849]\n",
      "Epoch 58: : 41it [00:00, 87.23it/s, loss=0.0874]\n",
      "Epoch 59: : 41it [00:00, 84.19it/s, loss=0.0819]\n",
      "Epoch 60: : 41it [00:00, 86.86it/s, loss=0.0801]\n",
      "Epoch 61: : 41it [00:00, 86.86it/s, loss=0.0784]\n",
      "Epoch 62: : 41it [00:00, 76.64it/s, loss=0.0755]\n",
      "Epoch 63: : 41it [00:00, 87.23it/s, loss=0.0755]\n",
      "Epoch 64: : 41it [00:00, 87.98it/s, loss=0.0757]\n",
      "Epoch 65: : 41it [00:00, 86.86it/s, loss=0.0803]\n",
      "Epoch 66: : 41it [00:00, 86.68it/s, loss=0.0781]\n",
      "Epoch 67: : 41it [00:00, 86.68it/s, loss=0.0754]\n",
      "Epoch 68: : 41it [00:00, 86.86it/s, loss=0.0739]\n",
      "Epoch 69: : 41it [00:00, 87.05it/s, loss=0.0714]\n",
      "Epoch 70: : 41it [00:00, 88.36it/s, loss=0.0719]\n",
      "Epoch 71: : 41it [00:00, 88.17it/s, loss=0.0689]\n",
      "Epoch 72: : 41it [00:00, 87.05it/s, loss=0.0705]\n",
      "Epoch 73: : 41it [00:00, 87.23it/s, loss=0.0815]\n",
      "Epoch 74: : 41it [00:00, 86.68it/s, loss=0.0709]\n",
      "Epoch 75: : 41it [00:00, 87.05it/s, loss=0.0701]\n",
      "Epoch 76: : 41it [00:00, 87.79it/s, loss=0.0657]\n",
      "Epoch 77: : 41it [00:00, 87.98it/s, loss=0.0634]\n",
      "Epoch 78: : 41it [00:00, 87.42it/s, loss=0.0646]\n",
      "Epoch 79: : 41it [00:00, 86.86it/s, loss=0.0641]\n",
      "Epoch 80: : 41it [00:00, 84.54it/s, loss=0.0651]\n",
      "Epoch 81: : 41it [00:00, 87.05it/s, loss=0.062]\n",
      "Epoch 82: : 41it [00:00, 87.05it/s, loss=0.0623]\n",
      "Epoch 83: : 41it [00:00, 87.42it/s, loss=0.06]\n",
      "Epoch 84: : 41it [00:00, 87.05it/s, loss=0.0632]\n",
      "Epoch 85: : 41it [00:00, 87.98it/s, loss=0.0573]\n",
      "Epoch 86: : 41it [00:00, 88.17it/s, loss=0.058]\n",
      "Epoch 87: : 41it [00:00, 86.50it/s, loss=0.0558]\n",
      "Epoch 88: : 41it [00:00, 82.00it/s, loss=0.0531]\n",
      "Epoch 89: : 41it [00:00, 80.47it/s, loss=0.0541]\n",
      "Epoch 90: : 41it [00:00, 82.82it/s, loss=0.0515]\n",
      "Epoch 91: : 41it [00:00, 73.48it/s, loss=0.052]\n",
      "Epoch 92: : 41it [00:00, 84.19it/s, loss=0.0519]\n",
      "Epoch 93: : 41it [00:00, 84.89it/s, loss=0.0538]\n",
      "Epoch 94: : 41it [00:00, 86.13it/s, loss=0.0532]\n",
      "Epoch 95: : 41it [00:00, 86.32it/s, loss=0.048]\n",
      "Epoch 96: : 41it [00:00, 87.05it/s, loss=0.0489]\n",
      "Epoch 97: : 41it [00:00, 86.50it/s, loss=0.053]\n",
      "Epoch 98: : 41it [00:00, 87.42it/s, loss=0.0472]\n",
      "Epoch 99: : 41it [00:00, 86.13it/s, loss=0.0458]\n"
     ]
    }
   ],
   "metadata": {}
  },
  {
   "cell_type": "code",
   "execution_count": 26,
   "source": [
    "plt.plot(losses)"
   ],
   "outputs": [
    {
     "output_type": "execute_result",
     "data": {
      "text/plain": [
       "[<matplotlib.lines.Line2D at 0x2dd5652a0d0>]"
      ]
     },
     "metadata": {},
     "execution_count": 26
    },
    {
     "output_type": "display_data",
     "data": {
      "image/png": "[encoded data removed]",
      "text/plain": [
       "<Figure size 432x288 with 1 Axes>"
      ]
     },
     "metadata": {
      "needs_background": "light"
     }
    }
   ],
   "metadata": {}
  }
 ],
 "metadata": {
  "orig_nbformat": 4,
  "language_info": {
   "name": "python",
   "version": "3.9.7",
   "mimetype": "text/x-python",
   "codemirror_mode": {
    "name": "ipython",
    "version": 3
   },
   "pygments_lexer": "ipython3",
   "nbconvert_exporter": "python",
   "file_extension": ".py"
  },
  "kernelspec": {
   "name": "python3",
   "display_name": "Python 3.9.7 64-bit ('molnlp': conda)"
  },
  "interpreter": {
   "hash": "908b0ba9a178eea73af43abb00217a0aee98ad2ae4b0fcf81e35eb59597dfae8"
  }
 },
 "nbformat": 4,
 "nbformat_minor": 2
}