{
 "cells": [
  {
   "cell_type": "markdown",
   "metadata": {},
   "source": [
    " Dataset at: https://deepchemdata.s3-us-west-1.amazonaws.com/datasets/qm8.csv"
   ]
  },
  {
   "cell_type": "code",
   "execution_count": 5,
   "metadata": {},
   "outputs": [],
   "source": [
    "import os\n",
    "import gzip\n",
    "import shutil\n",
    "import random"
   ]
  },
  {
   "cell_type": "code",
   "execution_count": 24,
   "metadata": {},
   "outputs": [],
   "source": [
    "splits = ['train', 'test', 'valid']\n",
    "ratios = [0.8, 0.1, 0.1]\n",
    "\n",
    "with open('data/qm8/qm8.csv', 'r') as mol_f:\n",
    "    mol_lines = mol_f.readlines()\n",
    "\n",
    "header = mol_lines[0]\n",
    "mol_lines = mol_lines[1:]\n",
    "\n",
    "random.shuffle(mol_lines)\n",
    "\n",
    "idx_1 = int(len(mol_lines) * ratios[0])\n",
    "idx_2 = idx_1 + int(len(mol_lines) * ratios[1])\n",
    "\n",
    "train_split = mol_lines[:idx_1]\n",
    "test_split = mol_lines[idx_1:idx_2]\n",
    "valid_split = mol_lines[idx_2:]\n",
    "\n",
    "data_splits = [train_split, test_split, valid_split]\n",
    "\n",
    "for split, data in zip(splits, data_splits):\n",
    "    with open('data/qm8/' + split + '.csv', 'w') as f:\n",
    "        f.write(header)\n",
    "        f.writelines(data)\n"
   ]
  }
 ],
 "metadata": {
  "interpreter": {
   "hash": "d6b4c48b5ce735231575875d44944f6382cbf5d8aa4a5aa5659253d82899c9bc"
  },
  "kernelspec": {
   "display_name": "Python 3.9.7 64-bit ('molnlp': conda)",
   "name": "python3"
  },
  "language_info": {
   "codemirror_mode": {
    "name": "ipython",
    "version": 3
   },
   "file_extension": ".py",
   "mimetype": "text/x-python",
   "name": "python",
   "nbconvert_exporter": "python",
   "pygments_lexer": "ipython3",
   "version": "3.9.7"
  },
  "orig_nbformat": 4
 },
 "nbformat": 4,
 "nbformat_minor": 2
}
